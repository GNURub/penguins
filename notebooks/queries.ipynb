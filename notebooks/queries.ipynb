{
 "cells": [
  {
   "cell_type": "markdown",
   "metadata": {},
   "source": [
    "## Queries Logistic Regression"
   ]
  },
  {
   "cell_type": "code",
   "execution_count": null,
   "metadata": {
    "vscode": {
     "languageId": "shellscript"
    }
   },
   "outputs": [],
   "source": [
    "curl -X POST http://localhost:8000/predict/lr \\\n",
    "     -H \"Content-Type: application/json\" \\\n",
    "     -d '{\n",
    "         \"island\": \"Biscoe\",\n",
    "         \"sex\": \"Male\",\n",
    "         \"bill_length_mm\": 45.0,\n",
    "         \"bill_depth_mm\": 18.0,\n",
    "         \"flipper_length_mm\": 200.0,\n",
    "         \"body_mass_g\": 4500.0\n",
    "     }'"
   ]
  },
  {
   "cell_type": "code",
   "execution_count": null,
   "metadata": {
    "vscode": {
     "languageId": "shellscript"
    }
   },
   "outputs": [],
   "source": [
    "# Respuesta\n",
    "{\n",
    "  \"especie\": \"Adelie\",\n",
    "  \"probabilidad\": 0.7858801464383887\n",
    "}\n",
    "\n",
    "# Se trata de un pingüino de la especie Adelie con una probabilidad del 78.59% según el modelo de regresión logística."
   ]
  },
  {
   "cell_type": "code",
   "execution_count": null,
   "metadata": {
    "vscode": {
     "languageId": "shellscript"
    }
   },
   "outputs": [],
   "source": [
    "curl -X POST http://localhost:8000/predict/lr \\\n",
    "     -H \"Content-Type: application/json\" \\\n",
    "     -d '{\n",
    "         \"island\": \"Dream\",\n",
    "         \"sex\": \"Female\",\n",
    "         \"bill_length_mm\": 40.5,\n",
    "         \"bill_depth_mm\": 17.0,\n",
    "         \"flipper_length_mm\": 195.0,\n",
    "         \"body_mass_g\": 4300.0\n",
    "     }'"
   ]
  },
  {
   "cell_type": "code",
   "execution_count": null,
   "metadata": {
    "vscode": {
     "languageId": "shellscript"
    }
   },
   "outputs": [],
   "source": [
    "# Respuesta\n",
    "{\n",
    "  \"especie\": \"Adelie\",\n",
    "  \"probabilidad\": 0.7279718108028369\n",
    "}\n",
    "\n",
    "# Se trata de un pingüino de la especie Adelie con una probabilidad del 72.80% según el modelo de regresión logística."
   ]
  },
  {
   "cell_type": "markdown",
   "metadata": {},
   "source": [
    "## Queries SVM"
   ]
  },
  {
   "cell_type": "code",
   "execution_count": null,
   "metadata": {
    "vscode": {
     "languageId": "shellscript"
    }
   },
   "outputs": [],
   "source": [
    "curl -X POST http://localhost:8000/predict/svm \\\n",
    "     -H \"Content-Type: application/json\" \\\n",
    "     -d '{\n",
    "         \"island\": \"Torgersen\",\n",
    "         \"sex\": \"Male\",\n",
    "         \"bill_length_mm\": 50.0,\n",
    "         \"bill_depth_mm\": 15.0,\n",
    "         \"flipper_length_mm\": 210.0,\n",
    "         \"body_mass_g\": 5000.0\n",
    "     }'"
   ]
  },
  {
   "cell_type": "code",
   "execution_count": null,
   "metadata": {
    "vscode": {
     "languageId": "shellscript"
    }
   },
   "outputs": [],
   "source": [
    "# Respuesta\n",
    "{\n",
    "  \"especie\": \"Gentoo\",\n",
    "  \"probabilidad\": 0.9179990705657677\n",
    "}\n",
    "\n",
    "# Se trata de un pingüino de la especie Gentoo con una probabilidad del 91.80% según el modelo de máquinas de soporte vectorial."
   ]
  },
  {
   "cell_type": "code",
   "execution_count": null,
   "metadata": {
    "vscode": {
     "languageId": "shellscript"
    }
   },
   "outputs": [],
   "source": [
    "curl -X POST http://localhost:8000/predict/svm \\\n",
    "     -H \"Content-Type: application/json\" \\\n",
    "     -d '{\n",
    "         \"island\": \"Biscoe\",\n",
    "         \"sex\": \"Female\",\n",
    "         \"bill_length_mm\": 39.0,\n",
    "         \"bill_depth_mm\": 16.0,\n",
    "         \"flipper_length_mm\": 190.0,\n",
    "         \"body_mass_g\": 4200.0\n",
    "     }'"
   ]
  },
  {
   "cell_type": "code",
   "execution_count": null,
   "metadata": {
    "vscode": {
     "languageId": "shellscript"
    }
   },
   "outputs": [],
   "source": [
    "# Respuesta\n",
    "{\n",
    "  \"especie\": \"Adelie\",\n",
    "  \"probabilidad\": 0.8110619012578864\n",
    "}\n",
    "\n",
    "# Se trata de un pingüino de la especie Adelie con una probabilidad del 81.11% según el modelo de máquinas de soporte vectorial."
   ]
  },
  {
   "cell_type": "markdown",
   "metadata": {},
   "source": [
    "## Queries Decision Tree"
   ]
  },
  {
   "cell_type": "code",
   "execution_count": null,
   "metadata": {
    "vscode": {
     "languageId": "shellscript"
    }
   },
   "outputs": [],
   "source": [
    "curl -X POST http://localhost:8000/predict/dt \\\n",
    "     -H \"Content-Type: application/json\" \\\n",
    "     -d '{\n",
    "         \"island\": \"Dream\",\n",
    "         \"sex\": \"Male\",\n",
    "         \"bill_length_mm\": 43.0,\n",
    "         \"bill_depth_mm\": 19.5,\n",
    "         \"flipper_length_mm\": 210.0,\n",
    "         \"body_mass_g\": 4400.0\n",
    "     }'"
   ]
  },
  {
   "cell_type": "code",
   "execution_count": null,
   "metadata": {
    "vscode": {
     "languageId": "shellscript"
    }
   },
   "outputs": [],
   "source": [
    "# Respuesta\n",
    "{\n",
    "  \"especie\": \"Chinstrap\",\n",
    "  \"probabilidad\": 1.0\n",
    "}\n",
    "\n",
    "# Se trata de un pingüino de la especie Chinstrap con una probabilidad del 100% según el modelo de árboles de decisión."
   ]
  },
  {
   "cell_type": "code",
   "execution_count": null,
   "metadata": {
    "vscode": {
     "languageId": "shellscript"
    }
   },
   "outputs": [],
   "source": [
    "curl -X POST http://localhost:8000/predict/dt \\\n",
    "     -H \"Content-Type: application/json\" \\\n",
    "     -d '{\n",
    "         \"island\": \"Torgersen\",\n",
    "         \"sex\": \"Female\",\n",
    "         \"bill_length_mm\": 38.0,\n",
    "         \"bill_depth_mm\": 18.0,\n",
    "         \"flipper_length_mm\": 185.0,\n",
    "         \"body_mass_g\": 4000.0\n",
    "     }'"
   ]
  },
  {
   "cell_type": "code",
   "execution_count": null,
   "metadata": {
    "vscode": {
     "languageId": "shellscript"
    }
   },
   "outputs": [],
   "source": [
    "# Respuesta\n",
    "{\n",
    "  \"especie\": \"Adelie\",\n",
    "  \"probabilidad\": 1.0\n",
    "}\n",
    "\n",
    "# Se trata de un pingüino de la especie Adelie con una probabilidad del 100% según el modelo de árboles de decisión."
   ]
  },
  {
   "cell_type": "markdown",
   "metadata": {},
   "source": [
    "## Queries KNN"
   ]
  },
  {
   "cell_type": "code",
   "execution_count": null,
   "metadata": {
    "vscode": {
     "languageId": "shellscript"
    }
   },
   "outputs": [],
   "source": [
    "curl -X POST http://localhost:8000/predict/knn \\\n",
    "     -H \"Content-Type: application/json\" \\\n",
    "     -d '{\n",
    "         \"island\": \"Biscoe\",\n",
    "         \"sex\": \"Male\",\n",
    "         \"bill_length_mm\": 46.0,\n",
    "         \"bill_depth_mm\": 18.5,\n",
    "         \"flipper_length_mm\": 202.0,\n",
    "         \"body_mass_g\": 4700.0\n",
    "     }'"
   ]
  },
  {
   "cell_type": "code",
   "execution_count": null,
   "metadata": {
    "vscode": {
     "languageId": "shellscript"
    }
   },
   "outputs": [],
   "source": [
    "# Respuesta\n",
    "{\n",
    "  \"especie\": \"Adelie\",\n",
    "  \"probabilidad\": 1.0\n",
    "}\n",
    "\n",
    "# Se trata de un pingüino de la especie Adelie con una probabilidad del 100% según el modelo de k-vecinos más cercanos."
   ]
  },
  {
   "cell_type": "code",
   "execution_count": null,
   "metadata": {
    "vscode": {
     "languageId": "shellscript"
    }
   },
   "outputs": [],
   "source": [
    "curl -X POST http://localhost:8000/predict/knn \\\n",
    "     -H \"Content-Type: application/json\" \\\n",
    "     -d '{\n",
    "         \"island\": \"Dream\",\n",
    "         \"sex\": \"Female\",\n",
    "         \"bill_length_mm\": 41.5,\n",
    "         \"bill_depth_mm\": 16.5,\n",
    "         \"flipper_length_mm\": 193.0,\n",
    "         \"body_mass_g\": 4350.0\n",
    "     }'"
   ]
  },
  {
   "cell_type": "code",
   "execution_count": null,
   "metadata": {
    "vscode": {
     "languageId": "shellscript"
    }
   },
   "outputs": [],
   "source": [
    "# Respuesta\n",
    "{\n",
    "  \"especie\": \"Chinstrap\",\n",
    "  \"probabilidad\": 0.6666666666666666\n",
    "}\n",
    "\n",
    "# Se trata de un pingüino de la especie Chinstrap con una probabilidad del 66.67% según el modelo de k-vecinos más cercanos."
   ]
  }
 ],
 "metadata": {
  "kernelspec": {
   "display_name": "penguins-x356dO5--py3.12",
   "language": "python",
   "name": "python3"
  },
  "language_info": {
   "codemirror_mode": {
    "name": "ipython",
    "version": 3
   },
   "file_extension": ".py",
   "mimetype": "text/x-python",
   "name": "python",
   "nbconvert_exporter": "python",
   "pygments_lexer": "ipython3",
   "version": "3.12.7"
  }
 },
 "nbformat": 4,
 "nbformat_minor": 2
}
