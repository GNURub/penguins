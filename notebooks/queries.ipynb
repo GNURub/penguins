{
 "cells": [
  {
   "cell_type": "markdown",
   "metadata": {},
   "source": [
    "## Queries Logistic Regression"
   ]
  },
  {
   "cell_type": "code",
   "execution_count": null,
   "metadata": {
    "vscode": {
     "languageId": "shellscript"
    }
   },
   "outputs": [],
   "source": [
    "curl -X POST http://localhost:8000/predict/lr \\\n",
    "     -H \"Content-Type: application/json\" \\\n",
    "     -d '{\n",
    "         \"island\": \"Biscoe\",\n",
    "         \"sex\": \"Male\",\n",
    "         \"bill_length_mm\": 45.0,\n",
    "         \"bill_depth_mm\": 18.0,\n",
    "         \"flipper_length_mm\": 200.0,\n",
    "         \"body_mass_g\": 4500.0\n",
    "     }'"
   ]
  },
  {
   "cell_type": "code",
   "execution_count": null,
   "metadata": {
    "vscode": {
     "languageId": "shellscript"
    }
   },
   "outputs": [],
   "source": [
    "curl -X POST http://localhost:8000/predict/lr \\\n",
    "     -H \"Content-Type: application/json\" \\\n",
    "     -d '{\n",
    "         \"island\": \"Dream\",\n",
    "         \"sex\": \"Female\",\n",
    "         \"bill_length_mm\": 40.5,\n",
    "         \"bill_depth_mm\": 17.0,\n",
    "         \"flipper_length_mm\": 195.0,\n",
    "         \"body_mass_g\": 4300.0\n",
    "     }'\n"
   ]
  },
  {
   "cell_type": "markdown",
   "metadata": {},
   "source": [
    "## Queries SVM"
   ]
  },
  {
   "cell_type": "code",
   "execution_count": null,
   "metadata": {
    "vscode": {
     "languageId": "shellscript"
    }
   },
   "outputs": [],
   "source": [
    "curl -X POST http://localhost:8000/predict/svm \\\n",
    "     -H \"Content-Type: application/json\" \\\n",
    "     -d '{\n",
    "         \"island\": \"Torgersen\",\n",
    "         \"sex\": \"Male\",\n",
    "         \"bill_length_mm\": 50.0,\n",
    "         \"bill_depth_mm\": 15.0,\n",
    "         \"flipper_length_mm\": 210.0,\n",
    "         \"body_mass_g\": 5000.0\n",
    "     }'"
   ]
  },
  {
   "cell_type": "code",
   "execution_count": null,
   "metadata": {
    "vscode": {
     "languageId": "shellscript"
    }
   },
   "outputs": [],
   "source": [
    "curl -X POST http://localhost:8000/predict/svm \\\n",
    "     -H \"Content-Type: application/json\" \\\n",
    "     -d '{\n",
    "         \"island\": \"Biscoe\",\n",
    "         \"sex\": \"Female\",\n",
    "         \"bill_length_mm\": 39.0,\n",
    "         \"bill_depth_mm\": 16.0,\n",
    "         \"flipper_length_mm\": 190.0,\n",
    "         \"body_mass_g\": 4200.0\n",
    "     }'"
   ]
  },
  {
   "cell_type": "markdown",
   "metadata": {},
   "source": [
    "## Queries Decision Tree"
   ]
  },
  {
   "cell_type": "code",
   "execution_count": null,
   "metadata": {
    "vscode": {
     "languageId": "shellscript"
    }
   },
   "outputs": [],
   "source": [
    "curl -X POST http://localhost:8000/predict/dt \\\n",
    "     -H \"Content-Type: application/json\" \\\n",
    "     -d '{\n",
    "         \"island\": \"Dream\",\n",
    "         \"sex\": \"Male\",\n",
    "         \"bill_length_mm\": 43.0,\n",
    "         \"bill_depth_mm\": 19.5,\n",
    "         \"flipper_length_mm\": 210.0,\n",
    "         \"body_mass_g\": 4400.0\n",
    "     }'"
   ]
  },
  {
   "cell_type": "code",
   "execution_count": null,
   "metadata": {
    "vscode": {
     "languageId": "shellscript"
    }
   },
   "outputs": [],
   "source": [
    "curl -X POST http://localhost:8000/predict/dt \\\n",
    "     -H \"Content-Type: application/json\" \\\n",
    "     -d '{\n",
    "         \"island\": \"Torgersen\",\n",
    "         \"sex\": \"Female\",\n",
    "         \"bill_length_mm\": 38.0,\n",
    "         \"bill_depth_mm\": 18.0,\n",
    "         \"flipper_length_mm\": 185.0,\n",
    "         \"body_mass_g\": 4000.0\n",
    "     }'"
   ]
  },
  {
   "cell_type": "markdown",
   "metadata": {},
   "source": [
    "## Queries KNN"
   ]
  },
  {
   "cell_type": "code",
   "execution_count": null,
   "metadata": {
    "vscode": {
     "languageId": "shellscript"
    }
   },
   "outputs": [],
   "source": [
    "curl -X POST http://localhost:8000/predict/knn \\\n",
    "     -H \"Content-Type: application/json\" \\\n",
    "     -d '{\n",
    "         \"island\": \"Biscoe\",\n",
    "         \"sex\": \"Male\",\n",
    "         \"bill_length_mm\": 46.0,\n",
    "         \"bill_depth_mm\": 18.5,\n",
    "         \"flipper_length_mm\": 202.0,\n",
    "         \"body_mass_g\": 4700.0\n",
    "     }'"
   ]
  },
  {
   "cell_type": "code",
   "execution_count": null,
   "metadata": {
    "vscode": {
     "languageId": "shellscript"
    }
   },
   "outputs": [],
   "source": [
    "curl -X POST http://localhost:8000/predict/knn \\\n",
    "     -H \"Content-Type: application/json\" \\\n",
    "     -d '{\n",
    "         \"island\": \"Dream\",\n",
    "         \"sex\": \"Female\",\n",
    "         \"bill_length_mm\": 41.5,\n",
    "         \"bill_depth_mm\": 16.5,\n",
    "         \"flipper_length_mm\": 193.0,\n",
    "         \"body_mass_g\": 4350.0\n",
    "     }'\n"
   ]
  }
 ],
 "metadata": {
  "language_info": {
   "name": "python"
  }
 },
 "nbformat": 4,
 "nbformat_minor": 2
}
